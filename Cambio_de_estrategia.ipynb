{
  "nbformat": 4,
  "nbformat_minor": 0,
  "metadata": {
    "colab": {
      "provenance": [],
      "authorship_tag": "ABX9TyNkJRHvTO+/4OTMr8JlPdAn",
      "include_colab_link": true
    },
    "kernelspec": {
      "name": "python3",
      "display_name": "Python 3"
    },
    "language_info": {
      "name": "python"
    }
  },
  "cells": [
    {
      "cell_type": "markdown",
      "metadata": {
        "id": "view-in-github",
        "colab_type": "text"
      },
      "source": [
        "<a href=\"https://colab.research.google.com/github/Camiloarteagam/Data-Science/blob/main/Cambio_de_estrategia.ipynb\" target=\"_parent\"><img src=\"https://colab.research.google.com/assets/colab-badge.svg\" alt=\"Open In Colab\"/></a>"
      ]
    },
    {
      "cell_type": "code",
      "execution_count": null,
      "metadata": {
        "id": "cSxKZosw29dt"
      },
      "outputs": [],
      "source": [
        "import pandas as pd\n",
        "\n",
        "def reemplazar_nombres_estrategia(archivo_excel, cambios):\n",
        "    \"\"\"\n",
        "    Reemplaza nombres de estrategias en una columna de un archivo Excel.\n",
        "\n",
        "    Args:\n",
        "        archivo_excel (str): La ruta al archivo Excel.\n",
        "        cambios (dict): Un diccionario con los cambios a realizar,\n",
        "                       donde las claves son los nombres a buscar y\n",
        "                       los valores son los nombres de reemplazo.\n",
        "    \"\"\"\n",
        "    try:\n",
        "        # Lee el archivo excel\n",
        "        df = pd.read_excel('/content/Indicadores Consolidado 2024.xlsx')\n",
        "\n",
        "        # Verifica que la columna exista\n",
        "        if \"NOMBRE DE LA ESTRATEGIA\" not in df.columns:\n",
        "            print(\"Error: La columna 'NOMBRE DE LA ESTRATEGIA' no existe.\")\n",
        "            return\n",
        "\n",
        "        # Realiza los reemplazos en la columna especificada\n",
        "        df[\"NOMBRE DE LA ESTRATEGIA\"] = df[\"NOMBRE DE LA ESTRATEGIA\"].replace(cambios, regex=True)\n",
        "\n",
        "        # Guarda el excel con los cambios\n",
        "        df.to_excel(archivo_excel, index=False)\n",
        "        print(\"Los nombres de las estrategias han sido reemplazados con éxito.\")\n",
        "\n",
        "    except FileNotFoundError:\n",
        "        print(\"Error: El archivo Excel no se encontró.\")\n",
        "    except Exception as e:\n",
        "        print(f\"Ocurrió un error: {e}\")\n",
        "\n",
        "# Define los cambios a realizar, puedes agregar los que necesites\n",
        "cambios = {\n",
        "    \"ACOMPAÑAMIENTO_EMOCIONAL_GRUPAL\": \"ACOMPAÑAMIENTO EMOCIONAL GRUPAL\",\n",
        "    \"ACOMPAÑAMIENTO_EMOCIONAL_INDIVIDUAL\": \"ACOMPAÑAMIENTO EMOCIONAL INDIVIDUAL\",\n",
        "    \"AUXILIO_DE_GUARDERIA\":\"AUXILIO DE GUARDERIA\",\n",
        "    \"AUXILIO_DE_MATRIMONIO\":\"AUXILIO DE MATRIMONIO\",\n",
        "    \"TIEMPO_POR_MATRIMONIO\":\"TIEMPO POR MATRIMONIO\",\n",
        "    \"AUXILIO_DE_NACIMIENTO\":\"AUXILIO DE NACIMIENTO\",\n",
        "    \"CONTENCION_EN_EL_SERVICIO\":\"CONTENCION EN EL SERVICIO\",\n",
        "    \"CONTIGO_EN_TU_DUELO\":\"CONTIGO EN TU DUELO\",\n",
        "    \"BIENESTAR_NUTRICIONAL\":\"BIENESTAR NUTRICIONAL\",\n",
        "    \"CONTIGO_EN_TU_DUELO\":\"CONTIGO EN TU DUELO\",\n",
        "    \"CONVERSACIONES_SIGNIFICATIVAS\":\"CONVERSACIONES SIGNIFICATIVAS\",\n",
        "    \"DiAS_ESPECIALES\":\"DiAS ESPECIALES\",\n",
        "    \"EMBAJADORES_DEL_CUIDADO\":\"EMBAJADORES DEL CUIDADO\",\n",
        "    \"GESTION PENSIONAL \":\"GESTION PENSIONAL\",\n",
        "    \"GESTION_PENSIONAL\":\"GESTION PENSIONAL\",\n",
        "    \"GRUPO_ESPECIAL\":\"GRUPO ESPECIAL\",\n",
        "    \"HABILIDADES_QUE_INSPIRAN\":\"HABILIDADES QUE INSPIRAN\",\n",
        "    \"LICENCIA_POR_CALAMIDAD\":\"LICENCIA POR CALAMIDAD\",\n",
        "    \"MOVILIDAD_SOSTENIBLE\":\"MOVILIDAD SOSTENIBLE\",\n",
        "    \"PLAN_SALUD\":\"PLAN SALUD\",\n",
        "    \"RED_DE_APOYO\":\"RED DE APOYO\",\n",
        "    \"RELACIONES_ARMONIOSAS\":\"RELACIONES ARMONIOSAS\",\n",
        "    \"RUTAS_DE_TRANSPORTE\":\"RUTAS DE TRANSPORTE\",\n",
        "    \"SALA_AMIGA\":\"SALA AMIGA\",\n",
        "    \"SEGURO_DE_VIDA\":\"SEGURO DE VIDA\",\n",
        "    \"SEMILLERO_VOCACIONALES\":\"SEMILLERO VOCACIONALES\",\n",
        "    \"TESTEO_EMOCIONAL\":\"TESTEO EMOCIONAL\",\n",
        "    \"TU_CASA_KERALTY\":\"TU CASA KERALTY\",\n",
        "    \"TUS_PUNTOS_TU_TIEMPO\":\"TUS PUNTOS TU TIEMPO\",\n",
        "    \"VIERNES_FLEXIBLES\":\"VIERNES FLEXIBLES\",\n",
        "    \"VIVE_FINANCIERAMENTE\":\"VIVE FINANCIERAMENTE\"\n",
        "    \"ACONDICIONAMIENTO_FISICO\":\"ACONDICIONAMIENTO FISICO\",\n",
        "}\n",
        "\n",
        "# Especifica la ruta de tu archivo excel\n",
        "archivo_excel = \"Indicadores Consolidado 2024L.xlsx\"  # Reemplaza con el nombre de tu archivo\n",
        "\n",
        "# Llama a la función para realizar los reemplazos\n",
        "reemplazar_nombres_estrategia(archivo_excel, cambios)"
      ]
    }
  ]
}